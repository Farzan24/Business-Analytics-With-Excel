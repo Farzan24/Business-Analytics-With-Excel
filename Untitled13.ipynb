{
  "nbformat": 4,
  "nbformat_minor": 0,
  "metadata": {
    "colab": {
      "provenance": [],
      "authorship_tag": "ABX9TyP8GMTfg0pfQ/8XFR8LDt/4",
      "include_colab_link": true
    },
    "kernelspec": {
      "name": "python3",
      "display_name": "Python 3"
    },
    "language_info": {
      "name": "python"
    }
  },
  "cells": [
    {
      "cell_type": "markdown",
      "metadata": {
        "id": "view-in-github",
        "colab_type": "text"
      },
      "source": [
        "<a href=\"https://colab.research.google.com/github/Farzan24/Business-Analytics-With-Excel/blob/main/Untitled13.ipynb\" target=\"_parent\"><img src=\"https://colab.research.google.com/assets/colab-badge.svg\" alt=\"Open In Colab\"/></a>"
      ]
    },
    {
      "cell_type": "code",
      "execution_count": 4,
      "metadata": {
        "id": "VyXmQ5b9Zp65"
      },
      "outputs": [],
      "source": [
        "x=[5,6,6,4,3,7,3,56,4,56]"
      ]
    },
    {
      "cell_type": "code",
      "source": [
        "def ABC(x):\n",
        "  print(sum(x))"
      ],
      "metadata": {
        "id": "U6WArArscI72"
      },
      "execution_count": 10,
      "outputs": []
    },
    {
      "cell_type": "code",
      "source": [
        "ABC(x)"
      ],
      "metadata": {
        "colab": {
          "base_uri": "https://localhost:8080/"
        },
        "id": "D9LC-YuKcTj8",
        "outputId": "23dc58b4-7e4c-4c26-857b-3eec867f7bf6"
      },
      "execution_count": 11,
      "outputs": [
        {
          "output_type": "stream",
          "name": "stdout",
          "text": [
            "150\n"
          ]
        }
      ]
    },
    {
      "cell_type": "code",
      "source": [
        "def even():\n",
        "  x=[5,6,6,4,3,7,3,56,4,56]\n",
        "  e=[]\n",
        "  for x in x :\n",
        "    if x&2 == 0:\n",
        "      e.append(x)\n",
        "      print(e)"
      ],
      "metadata": {
        "id": "PMNdMuuJccZT"
      },
      "execution_count": 12,
      "outputs": []
    },
    {
      "cell_type": "code",
      "source": [
        "even()"
      ],
      "metadata": {
        "colab": {
          "base_uri": "https://localhost:8080/"
        },
        "id": "PK-nLuUnia94",
        "outputId": "66bb5538-c7b9-42d2-ee84-4d5ef43be733"
      },
      "execution_count": 13,
      "outputs": [
        {
          "output_type": "stream",
          "name": "stdout",
          "text": [
            "[5]\n",
            "[5, 4]\n",
            "[5, 4, 56]\n",
            "[5, 4, 56, 4]\n",
            "[5, 4, 56, 4, 56]\n"
          ]
        }
      ]
    },
    {
      "cell_type": "code",
      "source": [
        "def odd():\n",
        "  x=[5,6,6,4,3,7,3,56,4,56]\n",
        "  e=[]\n",
        "  for x in x :\n",
        "    if x%2 != 0:\n",
        "      e.append(x)\n",
        "      print(e)"
      ],
      "metadata": {
        "id": "CHUe1vevidQZ"
      },
      "execution_count": 14,
      "outputs": []
    },
    {
      "cell_type": "code",
      "source": [
        "odd()"
      ],
      "metadata": {
        "colab": {
          "base_uri": "https://localhost:8080/"
        },
        "id": "zRFlcvmmjDno",
        "outputId": "5d2dfe7b-c4a6-431a-b721-6d08fdd67258"
      },
      "execution_count": 15,
      "outputs": [
        {
          "output_type": "stream",
          "name": "stdout",
          "text": [
            "[5]\n",
            "[5, 3]\n",
            "[5, 3, 7]\n",
            "[5, 3, 7, 3]\n"
          ]
        }
      ]
    },
    {
      "cell_type": "code",
      "source": [
        "import random\n",
        "char_list = ['a','e','i','o','u']\n",
        "random.shuffle(char_list)\n",
        "print(''.join(char_list))"
      ],
      "metadata": {
        "colab": {
          "base_uri": "https://localhost:8080/"
        },
        "id": "KmKRvmRxjGN2",
        "outputId": "1981f035-34c5-4459-df8a-0797c0400039"
      },
      "execution_count": 16,
      "outputs": [
        {
          "output_type": "stream",
          "name": "stdout",
          "text": [
            "aoiue\n"
          ]
        }
      ]
    },
    {
      "cell_type": "code",
      "source": [
        "text=input(\"Enter the String: \")\n",
        "vowels = ['a','e','i','o','u','A','E','I','O','U']\n",
        "newtext = \"\"\n",
        "textlen = len(text)\n",
        "\n",
        "for i in range(textlen):\n",
        "  if text[i] not in vowels:\n",
        "    newtext = newtext + text[i]\n",
        "\n",
        "print(\"/nString after removing vowels: \")\n",
        "text = newtext\n",
        "print(text)"
      ],
      "metadata": {
        "colab": {
          "base_uri": "https://localhost:8080/"
        },
        "id": "L7qdcTgRkmfg",
        "outputId": "c93cb606-d9c6-4c87-fb43-2f216e1f49b8"
      },
      "execution_count": 17,
      "outputs": [
        {
          "output_type": "stream",
          "name": "stdout",
          "text": [
            "Enter the String: Write a Python program that creates all possible strings using the letters 'a', 'e', 'i', 'o', and 'I'. Ensure that each character is used only once.\n",
            "/nString after removing vowels: \n",
            "Wrt  Pythn prgrm tht crts ll pssbl strngs sng th lttrs '', '', '', '', nd ''. nsr tht ch chrctr s sd nly nc.\n"
          ]
        }
      ]
    }
  ]
}