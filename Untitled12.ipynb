{
  "nbformat": 4,
  "nbformat_minor": 0,
  "metadata": {
    "colab": {
      "provenance": [],
      "authorship_tag": "ABX9TyM2c+K+mlJsU/voF+vzoLjR",
      "include_colab_link": true
    },
    "kernelspec": {
      "name": "python3",
      "display_name": "Python 3"
    },
    "language_info": {
      "name": "python"
    }
  },
  "cells": [
    {
      "cell_type": "markdown",
      "metadata": {
        "id": "view-in-github",
        "colab_type": "text"
      },
      "source": [
        "<a href=\"https://colab.research.google.com/github/Farzan24/Business-Analytics-With-Excel/blob/main/Untitled12.ipynb\" target=\"_parent\"><img src=\"https://colab.research.google.com/assets/colab-badge.svg\" alt=\"Open In Colab\"/></a>"
      ]
    },
    {
      "cell_type": "code",
      "execution_count": 1,
      "metadata": {
        "colab": {
          "base_uri": "https://localhost:8080/"
        },
        "id": "0wHArdbMyQcv",
        "outputId": "3e256fbb-17c2-4f17-b2fa-c483a66435e5"
      },
      "outputs": [
        {
          "output_type": "stream",
          "name": "stdout",
          "text": [
            "\"Kathy\"joseph alexander\n"
          ]
        }
      ],
      "source": [
        "Ingprint(\"\\\"Kathy\\\"joseph alexander\")"
      ]
    },
    {
      "cell_type": "code",
      "source": [
        "print(\"He \\n  Doctor\")"
      ],
      "metadata": {
        "colab": {
          "base_uri": "https://localhost:8080/"
        },
        "id": "Vk_8iajX0qU5",
        "outputId": "2001b64d-30fe-4b3a-ade9-be3bbc5b335b"
      },
      "execution_count": 2,
      "outputs": [
        {
          "output_type": "stream",
          "name": "stdout",
          "text": [
            "He \n",
            "  Doctor\n"
          ]
        }
      ]
    },
    {
      "cell_type": "code",
      "source": [
        "print(\"Farzan \\n    PA\")"
      ],
      "metadata": {
        "colab": {
          "base_uri": "https://localhost:8080/"
        },
        "id": "Cc5o7eM51GwZ",
        "outputId": "f5adee8b-f380-4170-a99f-788e04c4990f"
      },
      "execution_count": 4,
      "outputs": [
        {
          "output_type": "stream",
          "name": "stdout",
          "text": [
            "Farzan \n",
            "    PA\n"
          ]
        }
      ]
    },
    {
      "cell_type": "code",
      "source": [
        "x=10\n",
        "print(\"x.isdecimal()\")"
      ],
      "metadata": {
        "colab": {
          "base_uri": "https://localhost:8080/"
        },
        "id": "pW7uYUwI1v3o",
        "outputId": "855135d4-5e20-425b-c21d-dd6e58d419ff"
      },
      "execution_count": 6,
      "outputs": [
        {
          "output_type": "stream",
          "name": "stdout",
          "text": [
            "x.isdecimal()\n"
          ]
        }
      ]
    },
    {
      "cell_type": "code",
      "source": [
        "x = [\"John\", \"Mary\", \"David\", \"Adam\"]\n",
        "\n",
        "x.insert()\n",
        "print(x)"
      ],
      "metadata": {
        "colab": {
          "base_uri": "https://localhost:8080/"
        },
        "id": "lxw-biUF2QbO",
        "outputId": "4542c434-49a1-43d7-9ea1-e592d7d4b019"
      },
      "execution_count": 7,
      "outputs": [
        {
          "output_type": "stream",
          "name": "stdout",
          "text": [
            "['John', 'Mary', 'James', 'David', 'Adam']\n"
          ]
        }
      ]
    },
    {
      "cell_type": "code",
      "source": [
        "x=[\"A\" , \"b\",\"C\", \"K\"]\n",
        "y=int(input(\"Enter Index\"))\n",
        "n=input(\"Enter a Name\")\n",
        "x.insert(y,n)"
      ],
      "metadata": {
        "colab": {
          "base_uri": "https://localhost:8080/"
        },
        "id": "Hbjn7khv33Hi",
        "outputId": "5b846d62-20eb-41cf-a5c7-401963dcdd34"
      },
      "execution_count": 11,
      "outputs": [
        {
          "name": "stdout",
          "output_type": "stream",
          "text": [
            "Enter Index5\n",
            "Enter a NameParvathi\n"
          ]
        }
      ]
    },
    {
      "cell_type": "code",
      "source": [
        "def tia():\n",
        "  y=int(input(\"Enter Index\"))\n",
        "  n=input(\"Enter a Name\")\n",
        "  x.insert(y,n)"
      ],
      "metadata": {
        "id": "F92hT2yn5P0m"
      },
      "execution_count": 15,
      "outputs": []
    },
    {
      "cell_type": "code",
      "source": [
        "tia()"
      ],
      "metadata": {
        "colab": {
          "base_uri": "https://localhost:8080/"
        },
        "id": "lz7EIoDY-gvQ",
        "outputId": "a380ec56-6f30-4a1a-e762-1fda9df8cd73"
      },
      "execution_count": 16,
      "outputs": [
        {
          "name": "stdout",
          "output_type": "stream",
          "text": [
            "Enter Index6\n",
            "Enter a Name tia\n"
          ]
        }
      ]
    },
    {
      "cell_type": "code",
      "source": [
        "def maths(a,b):\n",
        "  print(a+b)"
      ],
      "metadata": {
        "id": "ZORRLcwU-uZh"
      },
      "execution_count": 17,
      "outputs": []
    },
    {
      "cell_type": "code",
      "source": [
        "x=int(input(\"enter first value\"))\n",
        "y=int(input(\"enter second value\"))\n",
        "maths(x,y)"
      ],
      "metadata": {
        "colab": {
          "base_uri": "https://localhost:8080/"
        },
        "id": "Fn9dKtzLEnwx",
        "outputId": "e0b09208-4991-4a06-f579-909e0de32fd4"
      },
      "execution_count": 18,
      "outputs": [
        {
          "output_type": "stream",
          "name": "stdout",
          "text": [
            "enter first value 6\n",
            "enter second value 7\n",
            "13\n"
          ]
        }
      ]
    },
    {
      "cell_type": "code",
      "source": [],
      "metadata": {
        "id": "h42FTa6aE7Ip"
      },
      "execution_count": null,
      "outputs": []
    }
  ]
}